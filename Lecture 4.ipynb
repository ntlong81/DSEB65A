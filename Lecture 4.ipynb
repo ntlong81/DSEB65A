{
 "cells": [
  {
   "cell_type": "markdown",
   "metadata": {},
   "source": [
    "## Conditional statements"
   ]
  },
  {
   "cell_type": "code",
   "execution_count": 3,
   "metadata": {},
   "outputs": [
    {
     "name": "stdout",
     "output_type": "stream",
     "text": [
      "The discount is 5\n"
     ]
    }
   ],
   "source": [
    "age = 18\n",
    "discount =25\n",
    "if age < 10:\n",
    "    discount = 15\n",
    "elif age < 18:\n",
    "    discount = 8\n",
    "elif age < 23:\n",
    "    discount  = 5\n",
    "elif age<=60:\n",
    "    discount = 2\n",
    "\n",
    "print(\"The discount is\", discount)"
   ]
  },
  {
   "cell_type": "code",
   "execution_count": 5,
   "metadata": {},
   "outputs": [
    {
     "name": "stdout",
     "output_type": "stream",
     "text": [
      "5 False\n"
     ]
    }
   ],
   "source": [
    "gift = True \n",
    "gender = input()\n",
    "age = int(input())\n",
    "\n",
    "if age < 10:\n",
    "    discount = 15\n",
    "elif age < 18:\n",
    "    discount = 8\n",
    "    if gender == \"Male\":\n",
    "        gift = False\n",
    "elif age < 23:\n",
    "    discount  = 5\n",
    "    if gender == \"Male\":\n",
    "        gift = False\n",
    "elif age<=60:\n",
    "    discount = 2\n",
    "    gift = False\n",
    "\n",
    "print(discount, gift)"
   ]
  },
  {
   "cell_type": "code",
   "execution_count": 6,
   "metadata": {},
   "outputs": [
    {
     "name": "stdout",
     "output_type": "stream",
     "text": [
      "You just earned 5 points.\n"
     ]
    }
   ],
   "source": [
    "#5.3\n",
    "alien_color = input(\"please choose: green, yellow, red:\") #\n",
    "if alien_color == \"green\":\n",
    "    print('You just earned 5 points.')\n",
    "else:\n",
    "    pass"
   ]
  },
  {
   "cell_type": "code",
   "execution_count": 7,
   "metadata": {},
   "outputs": [
    {
     "name": "stdout",
     "output_type": "stream",
     "text": [
      "You just earned 10 points.\n"
     ]
    }
   ],
   "source": [
    "#5.4\n",
    "alien_color = input(\"please choose: green, yellow, red:\") #\n",
    "if alien_color == \"green\":\n",
    "    print('You just earned 5 points.')\n",
    "else:\n",
    "    print('You just earned 10 points.')"
   ]
  },
  {
   "cell_type": "code",
   "execution_count": 8,
   "metadata": {},
   "outputs": [
    {
     "name": "stdout",
     "output_type": "stream",
     "text": [
      "You just earned 10 points.\n"
     ]
    }
   ],
   "source": [
    "#5.5\n",
    "alien_color = input(\"please choose: green, yellow, red:\") #\n",
    "if alien_color == \"green\":\n",
    "    print('You just earned 5 points.')\n",
    "elif alien_color == \"yellow\":\n",
    "    print('You just earned 10 points.')\n",
    "else:\n",
    "    print('You just earned 15 points.')"
   ]
  },
  {
   "cell_type": "code",
   "execution_count": 10,
   "metadata": {},
   "outputs": [
    {
     "name": "stdout",
     "output_type": "stream",
     "text": [
      "adult\n"
     ]
    }
   ],
   "source": [
    "# 5-6\n",
    "age = int(input(\"How old are you?\"))\n",
    "stage = \"\"\n",
    "if age <2:\n",
    "    stage = \"baby\"\n",
    "elif age <4:\n",
    "    stage = \"toddler\"\n",
    "elif age <13:\n",
    "    stage = \"kid\"\n",
    "elif age <20:\n",
    "    stage = \"teenager\"\n",
    "elif age <65:\n",
    "    stage = \"adult\"\n",
    "else:\n",
    "    stage = \"elder\"\n",
    "print(stage)"
   ]
  },
  {
   "cell_type": "code",
   "execution_count": null,
   "metadata": {},
   "outputs": [],
   "source": [
    "# 5-7\n",
    "favorite_fruits = [\"banana\",\"orange\",\"mango\"]\n",
    "if \"grape\" in favorite_fruits:\n",
    "    print(\"You really like grapes!\")\n",
    "if \"banana\" in favorite_fruits:\n",
    "    print(\"You really like bananas!\")\n",
    "if \"watermelon\" in favorite_fruits:\n",
    "    print(\"You really like watermelons!\")\n",
    "if \"orange\" in favorite_fruits:\n",
    "    print(\"You really like oranges!\")\n",
    "if \"mango\" in favorite_fruits:\n",
    "    print(\"You really like mangoes!\")\n"
   ]
  },
  {
   "cell_type": "code",
   "execution_count": 16,
   "metadata": {},
   "outputs": [
    {
     "name": "stdout",
     "output_type": "stream",
     "text": [
      "0\n",
      "1\n",
      "2\n",
      "3\n",
      "4\n"
     ]
    }
   ],
   "source": [
    "\n",
    "for i in range(10):\n",
    "    if i== 5:\n",
    "        break \n",
    "    print(i)\n",
    "    "
   ]
  },
  {
   "cell_type": "code",
   "execution_count": 18,
   "metadata": {},
   "outputs": [
    {
     "name": "stdout",
     "output_type": "stream",
     "text": [
      "0 0\n",
      "0 1\n",
      "0 2\n",
      "0 3\n",
      "0 4\n",
      "1 0\n",
      "1 1\n",
      "1 2\n",
      "1 3\n",
      "2 0\n",
      "2 1\n",
      "2 2\n",
      "3 0\n",
      "3 1\n",
      "4 0\n",
      "6 0\n",
      "6 1\n",
      "6 2\n",
      "6 3\n",
      "6 4\n",
      "6 5\n",
      "6 6\n",
      "6 7\n",
      "6 8\n",
      "6 9\n",
      "7 0\n",
      "7 1\n",
      "7 2\n",
      "7 3\n",
      "7 4\n",
      "7 5\n",
      "7 6\n",
      "7 7\n",
      "7 8\n",
      "7 9\n",
      "8 0\n",
      "8 1\n",
      "8 2\n",
      "8 3\n",
      "8 4\n",
      "8 5\n",
      "8 6\n",
      "8 7\n",
      "8 8\n",
      "8 9\n",
      "9 0\n",
      "9 1\n",
      "9 2\n",
      "9 3\n",
      "9 4\n",
      "9 5\n",
      "9 6\n",
      "9 7\n",
      "9 8\n",
      "9 9\n"
     ]
    }
   ],
   "source": [
    "for i in range(10):\n",
    "    for j in range(10):\n",
    "        if i+j== 5:\n",
    "            break \n",
    "        print(i,j)\n",
    "    "
   ]
  },
  {
   "cell_type": "code",
   "execution_count": 19,
   "metadata": {},
   "outputs": [
    {
     "name": "stdout",
     "output_type": "stream",
     "text": [
      "0\n",
      "1\n",
      "2\n",
      "3\n",
      "4\n",
      "6\n",
      "7\n",
      "8\n",
      "9\n"
     ]
    }
   ],
   "source": [
    "for i in range(10):\n",
    "    if i== 5:\n",
    "        continue \n",
    "    print(i)\n",
    "    "
   ]
  },
  {
   "cell_type": "code",
   "execution_count": 22,
   "metadata": {},
   "outputs": [
    {
     "name": "stdout",
     "output_type": "stream",
     "text": [
      "5 is not in [1, 2, 3, 4, 7, 9]\n"
     ]
    }
   ],
   "source": [
    "numbers = [1,2,3,4,7,9]\n",
    "number = 5\n",
    "for n in numbers:\n",
    "    if n == number:\n",
    "        print(\"bigo\")\n",
    "        break\n",
    "else: \n",
    "    print(f'{number} is not in {numbers}')"
   ]
  },
  {
   "cell_type": "code",
   "execution_count": 24,
   "metadata": {},
   "outputs": [
    {
     "name": "stdout",
     "output_type": "stream",
     "text": [
      "Hello a, thank you for logging in again\n",
      "Hello b, thank you for logging in again\n",
      "Hello c, thank you for logging in again\n",
      "Hello d, thank you for logging in again\n",
      "Hello admin, would you like to see a status report?\n"
     ]
    }
   ],
   "source": [
    "usernames = ['a', 'b', 'c', 'd', 'admin']\n",
    "\n",
    "for username in usernames:\n",
    "    if username == 'admin':\n",
    "        print('Hello admin, would you like to see a status report?')\n",
    "        break\n",
    "    else:\n",
    "        print(f'Hello {username}, thank you for logging in again')\n"
   ]
  },
  {
   "cell_type": "code",
   "execution_count": 25,
   "metadata": {},
   "outputs": [
    {
     "name": "stdout",
     "output_type": "stream",
     "text": [
      "We need to find some users\n"
     ]
    }
   ],
   "source": [
    "usernames = []\n",
    "\n",
    "for username in usernames:\n",
    "    if username == 'admin':\n",
    "        print('Hello admin, would you like to see a status report')\n",
    "    else:\n",
    "        print(f'Hello {username}, thank you for logging in again')\n",
    "else:\n",
    "    print('We need to find some users')"
   ]
  },
  {
   "cell_type": "code",
   "execution_count": null,
   "metadata": {},
   "outputs": [],
   "source": [
    "#5-10\n",
    "current_users = ['a', 'b', 'c', 'd', 'e']\n",
    "new_users = ['a','b', 'f', 'g', 'h']\n",
    "for i in range(len(new_users)):\n",
    "    for j in range(len(current_users)):\n",
    "        if new_users[i].lower() == current_users[j].lower():\n",
    "            print(\"You need to enter a new user name instead of\", new_users[i])\n",
    "        else:\n",
    "            print(f\"User name {new_users[i]} is available.\")"
   ]
  },
  {
   "cell_type": "code",
   "execution_count": 29,
   "metadata": {},
   "outputs": [
    {
     "name": "stdout",
     "output_type": "stream",
     "text": [
      "1st 2nd 3rd 4th 5th 6th 7th 8th 9th\n"
     ]
    }
   ],
   "source": [
    "#5-11\n",
    "number = [num for num in range(1,10)]\n",
    "for i in range(len(number)):\n",
    "    if number[i] == 1:\n",
    "        number[i]=str(number[i])+'st'\n",
    "    elif number[i] == 2:\n",
    "        number[i]=str(number[i])+'nd'\n",
    "    elif number[i] == 3:\n",
    "        number[i]=str(number[i])+'rd'\n",
    "    else:\n",
    "        number[i]=str(number[i])+'th'\n",
    "print(*number)"
   ]
  }
 ],
 "metadata": {
  "kernelspec": {
   "display_name": "env-teaching",
   "language": "python",
   "name": "python3"
  },
  "language_info": {
   "codemirror_mode": {
    "name": "ipython",
    "version": 3
   },
   "file_extension": ".py",
   "mimetype": "text/x-python",
   "name": "python",
   "nbconvert_exporter": "python",
   "pygments_lexer": "ipython3",
   "version": "3.11.7"
  }
 },
 "nbformat": 4,
 "nbformat_minor": 2
}

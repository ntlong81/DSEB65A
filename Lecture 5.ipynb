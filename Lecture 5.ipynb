{
 "cells": [
  {
   "cell_type": "markdown",
   "metadata": {},
   "source": [
    "## Lecture 5: Dictionary and while loop"
   ]
  },
  {
   "cell_type": "markdown",
   "metadata": {},
   "source": [
    "### Dictionary"
   ]
  },
  {
   "cell_type": "code",
   "execution_count": 4,
   "metadata": {},
   "outputs": [
    {
     "name": "stdout",
     "output_type": "stream",
     "text": [
      "{'Lan': 8, 'Long': 7, 'Hoa': 10, 1: 'Một', (1, 2): 'values'}\n"
     ]
    }
   ],
   "source": [
    "scores = {\"Lan\":8, \"Long\":7, \"Hoa\": 10, 1: 'Một', (1,2): 'values'}\n",
    "print(scores)"
   ]
  },
  {
   "cell_type": "code",
   "execution_count": 6,
   "metadata": {},
   "outputs": [
    {
     "name": "stdout",
     "output_type": "stream",
     "text": [
      "{'Lan': 8, 'Long': 7, 'Hoa': 10, 1: 'Mốt'}\n"
     ]
    }
   ],
   "source": [
    "scores = {\"Lan\":8, \"Long\":7, \"Hoa\": 10, 1: 'Một', 1: \"Mốt\"}\n",
    "print(scores)"
   ]
  },
  {
   "cell_type": "code",
   "execution_count": 8,
   "metadata": {},
   "outputs": [
    {
     "data": {
      "text/plain": [
       "{'Lan': 8, 'Long': 7, 'Hoa': 10, 1: 'Mốt', 2: 'hai'}"
      ]
     },
     "execution_count": 8,
     "metadata": {},
     "output_type": "execute_result"
    }
   ],
   "source": [
    "scores[2] = 'hai'\n",
    "scores"
   ]
  },
  {
   "cell_type": "code",
   "execution_count": 9,
   "metadata": {},
   "outputs": [
    {
     "data": {
      "text/plain": [
       "{'Lan': 9, 'Long': 7, 'Hoa': 10, 1: 'Mốt', 2: 'hai'}"
      ]
     },
     "execution_count": 9,
     "metadata": {},
     "output_type": "execute_result"
    }
   ],
   "source": [
    "scores['Lan'] = 9 #new value\n",
    "scores"
   ]
  },
  {
   "cell_type": "code",
   "execution_count": 10,
   "metadata": {},
   "outputs": [
    {
     "data": {
      "text/plain": [
       "{'Lan': 9, 'Long': 7, 'Hoa': 10, 2: 'hai'}"
      ]
     },
     "execution_count": 10,
     "metadata": {},
     "output_type": "execute_result"
    }
   ],
   "source": [
    "del scores[1]\n",
    "scores"
   ]
  },
  {
   "cell_type": "code",
   "execution_count": 11,
   "metadata": {},
   "outputs": [
    {
     "name": "stdout",
     "output_type": "stream",
     "text": [
      "hai\n"
     ]
    },
    {
     "data": {
      "text/plain": [
       "{'Lan': 9, 'Long': 7, 'Hoa': 10}"
      ]
     },
     "execution_count": 11,
     "metadata": {},
     "output_type": "execute_result"
    }
   ],
   "source": [
    "pop_item = scores.pop(2)\n",
    "print(pop_item)\n",
    "scores "
   ]
  },
  {
   "cell_type": "code",
   "execution_count": 25,
   "metadata": {},
   "outputs": [
    {
     "name": "stdout",
     "output_type": "stream",
     "text": [
      "('Hoa', 10)\n",
      "{'Lan': 9, 'Long': 7}\n"
     ]
    }
   ],
   "source": [
    "scores = {'Lan': 9, 'Long': 7, 'Hoa': 10}\n",
    "pop_item = scores.popitem()\n",
    "print(pop_item)\n",
    "print(scores)"
   ]
  },
  {
   "cell_type": "code",
   "execution_count": 26,
   "metadata": {},
   "outputs": [
    {
     "data": {
      "text/plain": [
       "9"
      ]
     },
     "execution_count": 26,
     "metadata": {},
     "output_type": "execute_result"
    }
   ],
   "source": [
    "scores = {'Lan': 9, 'Long': 7, 'Hoa': 10}\n",
    "scores['Lan']"
   ]
  },
  {
   "cell_type": "code",
   "execution_count": 29,
   "metadata": {},
   "outputs": [
    {
     "data": {
      "text/plain": [
       "9"
      ]
     },
     "execution_count": 29,
     "metadata": {},
     "output_type": "execute_result"
    }
   ],
   "source": [
    "scores.get('Lan',\"writing here\")"
   ]
  },
  {
   "cell_type": "code",
   "execution_count": 32,
   "metadata": {},
   "outputs": [
    {
     "name": "stdout",
     "output_type": "stream",
     "text": [
      "Lan : 9\n",
      "Long : 7\n",
      "Hoa : 10\n"
     ]
    }
   ],
   "source": [
    "for key in scores.keys():\n",
    "    print(key,\":\",scores[key])"
   ]
  },
  {
   "cell_type": "code",
   "execution_count": 33,
   "metadata": {},
   "outputs": [
    {
     "name": "stdout",
     "output_type": "stream",
     "text": [
      "Lan : 9\n",
      "Long : 7\n",
      "Hoa : 10\n"
     ]
    }
   ],
   "source": [
    "for key in scores:\n",
    "    print(key,\":\",scores[key])"
   ]
  },
  {
   "cell_type": "code",
   "execution_count": 35,
   "metadata": {},
   "outputs": [
    {
     "name": "stdout",
     "output_type": "stream",
     "text": [
      "9\n",
      "7\n",
      "10\n"
     ]
    }
   ],
   "source": [
    "for value in scores.values():\n",
    "    print(value)"
   ]
  },
  {
   "cell_type": "code",
   "execution_count": 36,
   "metadata": {},
   "outputs": [],
   "source": [
    "text = \"\"\"\n",
    "The Zen of Python, by Tim Peters\n",
    "\n",
    "Beautiful is better than ugly.\n",
    "Explicit is better than implicit.\n",
    "Simple is better than complex.\n",
    "Complex is better than complicated.\n",
    "Flat is better than nested.\n",
    "Sparse is better than dense.\n",
    "Readability counts.\n",
    "Special cases aren't special enough to break the rules.\n",
    "Although practicality beats purity.\n",
    "Errors should never pass silently.\n",
    "Unless explicitly silenced.\n",
    "In the face of ambiguity, refuse the temptation to guess.\n",
    "There should be one-- and preferably only one --obvious way to do it.\n",
    "Although that way may not be obvious at first unless you're Dutch.\n",
    "Now is better than never.\n",
    "Although never is often better than *right* now.\n",
    "If the implementation is hard to explain, it's a bad idea.\n",
    "If the implementation is easy to explain, it may be a good idea.\n",
    "Namespaces are one honking great idea -- let's do more of those!\n",
    "\"\"\""
   ]
  },
  {
   "cell_type": "code",
   "execution_count": 37,
   "metadata": {},
   "outputs": [],
   "source": [
    "# normalized\n",
    "special_letters = {'.',',',':','-','!','?','*'}\n",
    "text_nor = text \n",
    "for letter in special_letters:\n",
    "    text_nor = text_nor.replace(letter,' ')\n",
    "text_nor = text_nor.replace(\"n't\",' not')\n",
    "text_nor = text_nor.lower()"
   ]
  },
  {
   "cell_type": "code",
   "execution_count": 38,
   "metadata": {},
   "outputs": [
    {
     "name": "stdout",
     "output_type": "stream",
     "text": [
      "['the', 'zen', 'of', 'python', 'by', 'tim', 'peters', 'beautiful', 'is', 'better', 'than', 'ugly', 'explicit', 'is', 'better', 'than', 'implicit', 'simple', 'is', 'better', 'than', 'complex', 'complex', 'is', 'better', 'than', 'complicated', 'flat', 'is', 'better', 'than', 'nested', 'sparse', 'is', 'better', 'than', 'dense', 'readability', 'counts', 'special', 'cases', 'are', 'not', 'special', 'enough', 'to', 'break', 'the', 'rules', 'although', 'practicality', 'beats', 'purity', 'errors', 'should', 'never', 'pass', 'silently', 'unless', 'explicitly', 'silenced', 'in', 'the', 'face', 'of', 'ambiguity', 'refuse', 'the', 'temptation', 'to', 'guess', 'there', 'should', 'be', 'one', 'and', 'preferably', 'only', 'one', 'obvious', 'way', 'to', 'do', 'it', 'although', 'that', 'way', 'may', 'not', 'be', 'obvious', 'at', 'first', 'unless', \"you're\", 'dutch', 'now', 'is', 'better', 'than', 'never', 'although', 'never', 'is', 'often', 'better', 'than', 'right', 'now', 'if', 'the', 'implementation', 'is', 'hard', 'to', 'explain', \"it's\", 'a', 'bad', 'idea', 'if', 'the', 'implementation', 'is', 'easy', 'to', 'explain', 'it', 'may', 'be', 'a', 'good', 'idea', 'namespaces', 'are', 'one', 'honking', 'great', 'idea', \"let's\", 'do', 'more', 'of', 'those']\n"
     ]
    }
   ],
   "source": [
    "words = text_nor.split()\n",
    "print(words)"
   ]
  },
  {
   "cell_type": "code",
   "execution_count": 40,
   "metadata": {},
   "outputs": [
    {
     "name": "stdout",
     "output_type": "stream",
     "text": [
      "{'complex': 2, 'simple': 1, 'complicated': 1, 'explain': 2, 'more': 1, 'should': 2, 'be': 3, 'in': 1, 'explicitly': 1, 'unless': 2, 'is': 10, 'rules': 1, 'first': 1, 'if': 2, 'one': 3, 'at': 1, 'preferably': 1, 'than': 8, 'although': 3, 'break': 1, 'hard': 1, 'nested': 1, 'peters': 1, 'and': 1, 'way': 2, 'good': 1, 'tim': 1, 'practicality': 1, 'those': 1, 'may': 2, 'obvious': 2, 'silenced': 1, 'idea': 3, \"let's\": 1, 'of': 3, \"you're\": 1, 'dutch': 1, 'python': 1, 'special': 2, 'the': 6, 'are': 2, \"it's\": 1, 'ugly': 1, 'readability': 1, 'cases': 1, 'face': 1, 'that': 1, 'ambiguity': 1, 'flat': 1, 'sparse': 1, 'refuse': 1, 'there': 1, 'pass': 1, 'to': 5, 'dense': 1, 'not': 2, 'it': 2, 'temptation': 1, 'better': 8, 'only': 1, 'do': 2, 'implementation': 2, 'beats': 1, 'beautiful': 1, 'enough': 1, 'guess': 1, 'easy': 1, 'counts': 1, 'by': 1, 'a': 2, 'errors': 1, 'namespaces': 1, 'often': 1, 'zen': 1, 'honking': 1, 'explicit': 1, 'never': 3, 'great': 1, 'purity': 1, 'implicit': 1, 'silently': 1, 'right': 1, 'now': 2, 'bad': 1}\n"
     ]
    }
   ],
   "source": [
    "fre_words = dict() #={}\n",
    "# fre_words['better'] = 1 --> fre_words['better'] += 1 \n",
    "for word in set(words):\n",
    "    fre_words[word] = 0\n",
    "for word in words:\n",
    "    fre_words[word] += 1\n",
    "print(fre_words)"
   ]
  },
  {
   "cell_type": "code",
   "execution_count": 41,
   "metadata": {},
   "outputs": [
    {
     "name": "stdout",
     "output_type": "stream",
     "text": [
      "{'the': 6, 'zen': 1, 'of': 3, 'python': 1, 'by': 1, 'tim': 1, 'peters': 1, 'beautiful': 1, 'is': 10, 'better': 8, 'than': 8, 'ugly': 1, 'explicit': 1, 'implicit': 1, 'simple': 1, 'complex': 2, 'complicated': 1, 'flat': 1, 'nested': 1, 'sparse': 1, 'dense': 1, 'readability': 1, 'counts': 1, 'special': 2, 'cases': 1, 'are': 2, 'not': 2, 'enough': 1, 'to': 5, 'break': 1, 'rules': 1, 'although': 3, 'practicality': 1, 'beats': 1, 'purity': 1, 'errors': 1, 'should': 2, 'never': 3, 'pass': 1, 'silently': 1, 'unless': 2, 'explicitly': 1, 'silenced': 1, 'in': 1, 'face': 1, 'ambiguity': 1, 'refuse': 1, 'temptation': 1, 'guess': 1, 'there': 1, 'be': 3, 'one': 3, 'and': 1, 'preferably': 1, 'only': 1, 'obvious': 2, 'way': 2, 'do': 2, 'it': 2, 'that': 1, 'may': 2, 'at': 1, 'first': 1, \"you're\": 1, 'dutch': 1, 'now': 2, 'often': 1, 'right': 1, 'if': 2, 'implementation': 2, 'hard': 1, 'explain': 2, \"it's\": 1, 'a': 2, 'bad': 1, 'idea': 3, 'easy': 1, 'good': 1, 'namespaces': 1, 'honking': 1, 'great': 1, \"let's\": 1, 'more': 1, 'those': 1}\n"
     ]
    }
   ],
   "source": [
    "fre_words = dict() #={}\n",
    "# fre_words['better'] = 1 --> fre_words['better'] += 1 \n",
    "for word in words:\n",
    "    if word in fre_words.keys():\n",
    "        fre_words[word] += 1\n",
    "    else: \n",
    "        fre_words[word] = 1\n",
    "print(fre_words)"
   ]
  },
  {
   "cell_type": "markdown",
   "metadata": {},
   "source": [
    "### While loops"
   ]
  },
  {
   "cell_type": "code",
   "execution_count": 43,
   "metadata": {},
   "outputs": [
    {
     "name": "stdout",
     "output_type": "stream",
     "text": [
      "1\n",
      "2\n",
      "3\n",
      "4\n",
      "5\n",
      "Next line code\n"
     ]
    }
   ],
   "source": [
    "cur_n = 1\n",
    "while cur_n<=5:\n",
    "    print(cur_n)\n",
    "    cur_n += 1\n",
    "print('Next line code')"
   ]
  },
  {
   "cell_type": "code",
   "execution_count": 44,
   "metadata": {},
   "outputs": [
    {
     "name": "stdout",
     "output_type": "stream",
     "text": [
      "[2, 3, 2, 3, 4]\n"
     ]
    }
   ],
   "source": [
    "digits = [1,2,3,1,1,2,3,4]\n",
    "while 1 in digits:\n",
    "    digits.remove(1)\n",
    "print(digits)"
   ]
  },
  {
   "cell_type": "code",
   "execution_count": 47,
   "metadata": {},
   "outputs": [],
   "source": [
    "n = 1\n",
    "s = 0\n",
    "item = 1\n",
    "epsilon = 10**-6\n",
    "flag = True\n",
    "while flag:\n",
    "    s += item\n",
    "    n += 1\n",
    "    item =  item/n\n",
    "    if item/n< epsilon:\n",
    "        flag =False\n",
    "     \n"
   ]
  },
  {
   "cell_type": "code",
   "execution_count": 48,
   "metadata": {},
   "outputs": [
    {
     "data": {
      "text/plain": [
       "1.71827876984127"
      ]
     },
     "execution_count": 48,
     "metadata": {},
     "output_type": "execute_result"
    }
   ],
   "source": [
    "s "
   ]
  },
  {
   "cell_type": "code",
   "execution_count": 49,
   "metadata": {},
   "outputs": [
    {
     "data": {
      "text/plain": [
       "9"
      ]
     },
     "execution_count": 49,
     "metadata": {},
     "output_type": "execute_result"
    },
    {
     "ename": "",
     "evalue": "",
     "output_type": "error",
     "traceback": [
      "\u001b[1;31mThe Kernel crashed while executing code in the current cell or a previous cell. \n",
      "\u001b[1;31mPlease review the code in the cell(s) to identify a possible cause of the failure. \n",
      "\u001b[1;31mClick <a href='https://aka.ms/vscodeJupyterKernelCrash'>here</a> for more info. \n",
      "\u001b[1;31mView Jupyter <a href='command:jupyter.viewOutput'>log</a> for further details."
     ]
    }
   ],
   "source": [
    "n "
   ]
  },
  {
   "cell_type": "code",
   "execution_count": null,
   "metadata": {},
   "outputs": [],
   "source": [
    "print"
   ]
  }
 ],
 "metadata": {
  "kernelspec": {
   "display_name": "env-teaching",
   "language": "python",
   "name": "python3"
  },
  "language_info": {
   "codemirror_mode": {
    "name": "ipython",
    "version": 3
   },
   "file_extension": ".py",
   "mimetype": "text/x-python",
   "name": "python",
   "nbconvert_exporter": "python",
   "pygments_lexer": "ipython3",
   "version": "3.11.7"
  }
 },
 "nbformat": 4,
 "nbformat_minor": 2
}

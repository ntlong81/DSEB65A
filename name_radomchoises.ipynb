{
 "cells": [
  {
   "cell_type": "code",
   "execution_count": 1,
   "metadata": {},
   "outputs": [],
   "source": [
    "import random \n",
    "text_names = \"\"\"Bùi Châu  Anh\n",
    "Nguyễn Thị Mai  Anh\n",
    "Trần Tuấn  Anh\n",
    "Vũ Ngọc Hồng  Anh\n",
    "Lê Ngọc  Bích\n",
    "Thành Uyển  Dung\n",
    "Vũ Ngọc  Dương\n",
    "Đỗ Tuấn  Đạt\n",
    "Vũ Tuấn  Đạt\n",
    "Nguyễn Phương  Đông\n",
    "Trần Minh  Đức\n",
    "Trần Thu  Hằng\n",
    "Nguyễn Dương  Hiếu\n",
    "Nguyễn  Hoàng\n",
    "Nguyễn Việt  Hoàng\n",
    "Đặng Nhật  Huy\n",
    "Đinh Nam  Khánh\n",
    "Nguyễn Vinh  Khánh\n",
    "Đỗ Hữu  Kiên\n",
    "Hàn Chí  Kiên\n",
    "Đỗ Ánh  Ly\n",
    "Nguyễn Ngọc Sương  Mai\n",
    "Hồ Đức  Mạnh\n",
    "Khổng Gia  Minh\n",
    "Lê Nguyễn Tuệ  Minh\n",
    "Phạm Hồng  Minh\n",
    "Nghiêm Trà  My\n",
    "Nguyễn Phú  Nam\n",
    "Tô Bích  Ngọc\n",
    "Hoàng Thị Thanh  Nhàn\n",
    "Nguyễn Tuấn  Phong\n",
    "Trần Đình Tuấn  Phong\n",
    "Chu Bích  Phương\n",
    "Nguyễn Đại  Quân\n",
    "Nguyễn Thanh  Thảo\n",
    "Lê Thị Anh  Thư\n",
    "Phạm Vân  Thư\n",
    "Nguyễn Thị Thu  Trang\n",
    "Triệu Hải Đăng  Trình\n",
    "Trương Hoàng  Tùng\n",
    "Nguyễn Tống Nguyên  Vũ\n",
    "\"\"\"\n",
    "names = text_names.splitlines()"
   ]
  },
  {
   "cell_type": "code",
   "execution_count": 3,
   "metadata": {},
   "outputs": [
    {
     "data": {
      "text/plain": [
       "['Hoàng Thị Thanh  Nhàn']"
      ]
     },
     "execution_count": 3,
     "metadata": {},
     "output_type": "execute_result"
    }
   ],
   "source": [
    "import random\n",
    "random.choices(names, k=1)"
   ]
  }
 ],
 "metadata": {
  "kernelspec": {
   "display_name": "base",
   "language": "python",
   "name": "python3"
  },
  "language_info": {
   "codemirror_mode": {
    "name": "ipython",
    "version": 3
   },
   "file_extension": ".py",
   "mimetype": "text/x-python",
   "name": "python",
   "nbconvert_exporter": "python",
   "pygments_lexer": "ipython3",
   "version": "3.11.7"
  }
 },
 "nbformat": 4,
 "nbformat_minor": 2
}

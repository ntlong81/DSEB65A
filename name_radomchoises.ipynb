{
 "cells": [
  {
   "cell_type": "code",
   "execution_count": 18,
   "metadata": {},
   "outputs": [],
   "source": [
    "import random \n",
    "text_names = \"\"\"Bùi Châu  Anh\n",
    "Nguyễn Thị Mai  Anh\n",
    "Trần Tuấn  Anh\n",
    "Vũ Ngọc Hồng  Anh\n",
    "Lê Ngọc  Bích\n",
    "Thành Uyển  Dung\n",
    "Vũ Ngọc  Dương\n",
    "Đỗ Tuấn  Đạt\n",
    "Vũ Tuấn  Đạt\n",
    "Nguyễn Phương  Đông\n",
    "Trần Minh  Đức\n",
    "Trần Thu  Hằng\n",
    "Nguyễn Dương  Hiếu\n",
    "Nguyễn  Hoàng\n",
    "Nguyễn Việt  Hoàng\n",
    "Đặng Nhật  Huy\n",
    "Đinh Nam  Khánh\n",
    "Nguyễn Vinh  Khánh\n",
    "Đỗ Hữu  Kiên\n",
    "Hàn Chí  Kiên\n",
    "Đỗ Ánh  Ly\n",
    "Nguyễn Ngọc Sương  Mai\n",
    "Hồ Đức  Mạnh\n",
    "Khổng Gia  Minh\n",
    "Lê Nguyễn Tuệ  Minh\n",
    "Phạm Hồng  Minh\n",
    "Nghiêm Trà  My\n",
    "Nguyễn Phú  Nam\n",
    "Tô Bích  Ngọc\n",
    "Hoàng Thị Thanh  Nhàn\n",
    "Nguyễn Tuấn  Phong\n",
    "Trần Đình Tuấn  Phong\n",
    "Chu Bích  Phương\n",
    "Nguyễn Đại  Quân\n",
    "Nguyễn Thanh  Thảo\n",
    "Lê Thị Anh  Thư\n",
    "Phạm Vân  Thư\n",
    "Nguyễn Thị Thu  Trang\n",
    "Triệu Hải Đăng  Trình\n",
    "Trương Hoàng  Tùng\n",
    "Nguyễn Tống Nguyên  Vũ\n",
    "\"\"\"\n",
    "names = text_names.splitlines()"
   ]
  },
  {
   "cell_type": "code",
   "execution_count": 19,
   "metadata": {},
   "outputs": [
    {
     "data": {
      "text/plain": [
       "['Phạm Vân  Thư', 'Trần Thu  Hằng', 'Thành Uyển  Dung']"
      ]
     },
     "execution_count": 19,
     "metadata": {},
     "output_type": "execute_result"
    }
   ],
   "source": [
    "random.choices(names,k = 3)"
   ]
  },
  {
   "cell_type": "code",
   "execution_count": 20,
   "metadata": {},
   "outputs": [],
   "source": [
    "text_names = \"\"\"Bùi Châu  Anh\n",
    "Nguyễn Thị Mai  Anh\n",
    "Trần Tuấn  Anh\n",
    "Vũ Ngọc Hồng  Anh\n",
    "Lê Ngọc  Bích\n",
    "Thành Uyển  Dung\n",
    "Vũ Ngọc  Dương\n",
    "Đỗ Tuấn  Đạt\n",
    "Vũ Tuấn  Đạt\n",
    "Nguyễn Phương  Đông\n",
    "Trần Minh  Đức\n",
    "Trần Thu  Hằng\n",
    "Nguyễn Dương  Hiếu\n",
    "Nguyễn  Hoàng\n",
    "Nguyễn Việt  Hoàng\n",
    "Đặng Nhật  Huy\n",
    "Đinh Nam  Khánh\n",
    "Nguyễn Vinh  Khánh\n",
    "Đỗ Hữu  Kiên\n",
    "Hàn Chí  Kiên\n",
    "Đỗ Ánh  Ly\n",
    "Nguyễn Ngọc Sương  Mai\n",
    "Hồ Đức  Mạnh\n",
    "Khổng Gia  Minh\n",
    "Lê Nguyễn Tuệ  Minh\n",
    "Phạm Hồng  Minh\n",
    "Nghiêm Trà  My\n",
    "Nguyễn Phú  Nam\n",
    "Tô Bích  Ngọc\n",
    "Hoàng Thị Thanh  Nhàn\n",
    "Nguyễn Tuấn  Phong\n",
    "Trần Đình Tuấn  Phong\n",
    "Chu Bích  Phương\n",
    "Nguyễn Đại  Quân\n",
    "Nguyễn Thanh  Thảo\n",
    "Lê Thị Anh  Thư\n",
    "Phạm Vân  Thư\n",
    "Nguyễn Thị Thu  Trang\n",
    "Triệu Hải Đăng  Trình\n",
    "Trương Hoàng  Tùng\n",
    "Nguyễn Tống Nguyên  Vũ\n",
    "\"\"\"\n",
    "names = text_names.splitlines() "
   ]
  },
  {
   "cell_type": "code",
   "execution_count": 21,
   "metadata": {},
   "outputs": [
    {
     "data": {
      "text/plain": [
       "['Tô Bích  Ngọc']"
      ]
     },
     "execution_count": 21,
     "metadata": {},
     "output_type": "execute_result"
    }
   ],
   "source": [
    "import random\n",
    "random.choices(names, k=1)"
   ]
  },
  {
   "cell_type": "code",
   "execution_count": 6,
   "metadata": {},
   "outputs": [
    {
     "data": {
      "text/html": [
       "<div>\n",
       "<style scoped>\n",
       "    .dataframe tbody tr th:only-of-type {\n",
       "        vertical-align: middle;\n",
       "    }\n",
       "\n",
       "    .dataframe tbody tr th {\n",
       "        vertical-align: top;\n",
       "    }\n",
       "\n",
       "    .dataframe thead th {\n",
       "        text-align: right;\n",
       "    }\n",
       "</style>\n",
       "<table border=\"1\" class=\"dataframe\">\n",
       "  <thead>\n",
       "    <tr style=\"text-align: right;\">\n",
       "      <th></th>\n",
       "      <th>full_name</th>\n",
       "      <th>Điểm TBLT 10</th>\n",
       "    </tr>\n",
       "  </thead>\n",
       "  <tbody>\n",
       "    <tr>\n",
       "      <th>34</th>\n",
       "      <td>Nguyễn Thanh Thảo</td>\n",
       "      <td>9.29</td>\n",
       "    </tr>\n",
       "    <tr>\n",
       "      <th>3</th>\n",
       "      <td>Vũ Ngọc Hồng Anh</td>\n",
       "      <td>9.16</td>\n",
       "    </tr>\n",
       "    <tr>\n",
       "      <th>5</th>\n",
       "      <td>Thành Uyển Dung</td>\n",
       "      <td>8.83</td>\n",
       "    </tr>\n",
       "    <tr>\n",
       "      <th>1</th>\n",
       "      <td>Nguyễn Thị Mai Anh</td>\n",
       "      <td>8.81</td>\n",
       "    </tr>\n",
       "    <tr>\n",
       "      <th>11</th>\n",
       "      <td>Trần Thu Hằng</td>\n",
       "      <td>8.74</td>\n",
       "    </tr>\n",
       "  </tbody>\n",
       "</table>\n",
       "</div>"
      ],
      "text/plain": [
       "             full_name  Điểm TBLT 10\n",
       "34   Nguyễn Thanh Thảo           9.29\n",
       "3     Vũ Ngọc Hồng Anh           9.16\n",
       "5      Thành Uyển Dung           8.83\n",
       "1   Nguyễn Thị Mai Anh           8.81\n",
       "11       Trần Thu Hằng           8.74"
      ]
     },
     "execution_count": 6,
     "metadata": {},
     "output_type": "execute_result"
    }
   ],
   "source": []
  },
  {
   "cell_type": "code",
   "execution_count": null,
   "metadata": {},
   "outputs": [],
   "source": []
  }
 ],
 "metadata": {
  "kernelspec": {
   "display_name": "env-teaching",
   "language": "python",
   "name": "python3"
  },
  "language_info": {
   "codemirror_mode": {
    "name": "ipython",
    "version": 3
   },
   "file_extension": ".py",
   "mimetype": "text/x-python",
   "name": "python",
   "nbconvert_exporter": "python",
   "pygments_lexer": "ipython3",
   "version": "3.11.7"
  }
 },
 "nbformat": 4,
 "nbformat_minor": 2
}

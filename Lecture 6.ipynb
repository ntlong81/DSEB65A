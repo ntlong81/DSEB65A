{
 "cells": [
  {
   "cell_type": "markdown",
   "metadata": {},
   "source": [
    "## String and RegEx"
   ]
  },
  {
   "cell_type": "markdown",
   "metadata": {},
   "source": [
    "### Working with string"
   ]
  },
  {
   "cell_type": "code",
   "execution_count": 1,
   "metadata": {},
   "outputs": [
    {
     "data": {
      "text/plain": [
       "[1, 2, 3, 2, 3, 4]"
      ]
     },
     "execution_count": 1,
     "metadata": {},
     "output_type": "execute_result"
    }
   ],
   "source": [
    "[1,2,3] +[2,3,4]"
   ]
  },
  {
   "cell_type": "code",
   "execution_count": 2,
   "metadata": {},
   "outputs": [
    {
     "data": {
      "text/plain": [
       "'string1string2'"
      ]
     },
     "execution_count": 2,
     "metadata": {},
     "output_type": "execute_result"
    }
   ],
   "source": [
    "'string1'+\"string2\""
   ]
  },
  {
   "cell_type": "code",
   "execution_count": 3,
   "metadata": {},
   "outputs": [
    {
     "data": {
      "text/plain": [
       "[12, 23, 12, 23, 12, 23, 12, 23, 12, 23]"
      ]
     },
     "execution_count": 3,
     "metadata": {},
     "output_type": "execute_result"
    }
   ],
   "source": [
    "[12,23]*5"
   ]
  },
  {
   "cell_type": "code",
   "execution_count": 4,
   "metadata": {},
   "outputs": [
    {
     "data": {
      "text/plain": [
       "'stringstringstringstringstring'"
      ]
     },
     "execution_count": 4,
     "metadata": {},
     "output_type": "execute_result"
    }
   ],
   "source": [
    "'string'*5"
   ]
  },
  {
   "cell_type": "code",
   "execution_count": 8,
   "metadata": {},
   "outputs": [
    {
     "name": "stdout",
     "output_type": "stream",
     "text": [
      "{'g': 2, 'o': 3, 'l': 1, 'e': 1, '.': 1, 'c': 1, 'm': 1}\n"
     ]
    }
   ],
   "source": [
    "text = \"google.com\"\n",
    "count = {}\n",
    "for t in text:\n",
    "    if t not in count:\n",
    "        count[t] = 1\n",
    "    else:\n",
    "        count[t] += 1\n",
    "print(count)\n",
    "          "
   ]
  },
  {
   "cell_type": "code",
   "execution_count": 10,
   "metadata": {},
   "outputs": [
    {
     "data": {
      "text/plain": [
       "-1"
      ]
     },
     "execution_count": 10,
     "metadata": {},
     "output_type": "execute_result"
    }
   ],
   "source": [
    "\"abcd12321421\".find('3232')"
   ]
  },
  {
   "cell_type": "code",
   "execution_count": 16,
   "metadata": {},
   "outputs": [],
   "source": [
    "path = 'input.txt'\n",
    "with open(path, encoding='utf8') as file:\n",
    "    text = file.read()"
   ]
  },
  {
   "cell_type": "code",
   "execution_count": null,
   "metadata": {},
   "outputs": [],
   "source": []
  },
  {
   "cell_type": "code",
   "execution_count": 2,
   "metadata": {},
   "outputs": [],
   "source": [
    "short_text = 'fasfsf. sdfsf. sfsf! sdfsf? lsjflsf;'"
   ]
  },
  {
   "cell_type": "code",
   "execution_count": 3,
   "metadata": {},
   "outputs": [
    {
     "name": "stdout",
     "output_type": "stream",
     "text": [
      "[6, 13, 19, 26, 35]\n"
     ]
    }
   ],
   "source": [
    "end_letters = {'.', ';' ,'!' ,'?'}\n",
    "end_points = []\n",
    "for i in range(len(short_text)):\n",
    "    if short_text[i] in end_letters:\n",
    "        end_points.append(i)\n",
    "print(end_points)"
   ]
  },
  {
   "cell_type": "code",
   "execution_count": 4,
   "metadata": {},
   "outputs": [
    {
     "name": "stdout",
     "output_type": "stream",
     "text": [
      "9\n"
     ]
    }
   ],
   "source": [
    "max_size = end_points[0]\n",
    "for i in range(1,len(end_points)):\n",
    "    d = end_points[i] - end_points[i-1]\n",
    "    if max_size< d:\n",
    "        max_size = d\n",
    "print(max_size)"
   ]
  },
  {
   "cell_type": "code",
   "execution_count": 11,
   "metadata": {},
   "outputs": [
    {
     "name": "stdout",
     "output_type": "stream",
     "text": [
      "[6, 13, 26]\n"
     ]
    }
   ],
   "source": [
    "k = 12\n",
    "start = 0\n",
    "n = len(short_text)\n",
    "cut_points = []\n",
    "while start+k<=n:\n",
    "    cut_point = max([short_text.find(t,start, start+k) for t in end_letters])\n",
    "    cut_points.append(cut_point)\n",
    "    start +=cut_point+1\n",
    "print(cut_points)\n",
    "\n"
   ]
  },
  {
   "cell_type": "code",
   "execution_count": 14,
   "metadata": {},
   "outputs": [
    {
     "data": {
      "text/plain": [
       "'fasfsf. sdfsf. sfsf! sdfsf? lsjflsf;'"
      ]
     },
     "execution_count": 14,
     "metadata": {},
     "output_type": "execute_result"
    }
   ],
   "source": [
    "short_text"
   ]
  },
  {
   "cell_type": "code",
   "execution_count": 17,
   "metadata": {},
   "outputs": [
    {
     "name": "stdout",
     "output_type": "stream",
     "text": [
      "[171, 230, 422, 551, 628, 667, 723, 800, 861, 1015, 1161, 1300, 1349, 1374, 1505, 1898, 1961, 2046, 2120, 2187, 2277, 2310, 2389, 2435, 2561, 2608, 2696, 2785, 2889, 2971, 3056, 3123, 3290, 3349, 3405, 3577, 3630, 3762, 3788, 3911, 3971, 4015, 4239, 4449, 4506, 4549, 4654, 4825, 4904, 5020, 5184, 5390, 5589, 5802, 5909, 6120, 6316, 6359, 6477, 6616, 6691, 6728, 6840, 6908, 7039, 7139, 7354, -1]\n"
     ]
    }
   ],
   "source": [
    "start = 0\n",
    "ind = 0\n",
    "indices = []\n",
    "while ind !=-1:\n",
    "    ind = text.find('.',start)\n",
    "    indices.append(ind)\n",
    "    start = ind + 1\n",
    "print(indices)"
   ]
  },
  {
   "cell_type": "code",
   "execution_count": null,
   "metadata": {},
   "outputs": [],
   "source": []
  }
 ],
 "metadata": {
  "kernelspec": {
   "display_name": "env-teaching",
   "language": "python",
   "name": "python3"
  },
  "language_info": {
   "codemirror_mode": {
    "name": "ipython",
    "version": 3
   },
   "file_extension": ".py",
   "mimetype": "text/x-python",
   "name": "python",
   "nbconvert_exporter": "python",
   "pygments_lexer": "ipython3",
   "version": "3.11.7"
  }
 },
 "nbformat": 4,
 "nbformat_minor": 2
}

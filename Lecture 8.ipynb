{
 "cells": [
  {
   "cell_type": "markdown",
   "metadata": {},
   "source": [
    "## Lecture 8: Function"
   ]
  },
  {
   "cell_type": "code",
   "execution_count": 1,
   "metadata": {},
   "outputs": [],
   "source": [
    "def greet_user():\n",
    "    \"\"\"doc_string\"\"\"\n",
    "    print(\"Hello\")"
   ]
  },
  {
   "cell_type": "code",
   "execution_count": 2,
   "metadata": {},
   "outputs": [
    {
     "name": "stdout",
     "output_type": "stream",
     "text": [
      "Hello\n"
     ]
    }
   ],
   "source": [
    "greet_user()"
   ]
  },
  {
   "cell_type": "code",
   "execution_count": 7,
   "metadata": {},
   "outputs": [],
   "source": [
    "def greet_user(name):\n",
    "    \"\"\"doc_string\"\"\"\n",
    "    print(f\"Hello {name.title()}!\")"
   ]
  },
  {
   "cell_type": "code",
   "execution_count": 8,
   "metadata": {},
   "outputs": [
    {
     "name": "stdout",
     "output_type": "stream",
     "text": [
      "Hello Mai!\n"
     ]
    }
   ],
   "source": [
    "greet_user('mai')"
   ]
  },
  {
   "cell_type": "code",
   "execution_count": 9,
   "metadata": {},
   "outputs": [
    {
     "name": "stdout",
     "output_type": "stream",
     "text": [
      "Hello Lan!\n"
     ]
    }
   ],
   "source": [
    "greet_user('lan')"
   ]
  },
  {
   "cell_type": "code",
   "execution_count": 11,
   "metadata": {},
   "outputs": [
    {
     "data": {
      "text/plain": [
       "[1, 1, 2, 3, 4]"
      ]
     },
     "execution_count": 11,
     "metadata": {},
     "output_type": "execute_result"
    }
   ],
   "source": [
    "sorted([1,2,3,4,1], reverse=False)"
   ]
  },
  {
   "cell_type": "markdown",
   "metadata": {},
   "source": [
    "**8-3. T-Shirt:** Write a function called make_shirt() that accepts a size and the\n",
    "text of a message that should be printed on the shirt. The function should print\n",
    "a sentence summarizing the size of the shirt and the message printed on it.\n",
    "Call the function once using positional arguments to make a shirt. Call the\n",
    "function a second time using keyword arguments.\n"
   ]
  },
  {
   "cell_type": "code",
   "execution_count": 12,
   "metadata": {},
   "outputs": [
    {
     "name": "stdout",
     "output_type": "stream",
     "text": [
      "The size of your shirt: S\n",
      "The message printed on it: I love Hanoi\n",
      "The size of your shirt: S\n",
      "The message printed on it: I love Hanoi\n"
     ]
    }
   ],
   "source": [
    "def make_shirt(size, text):\n",
    "    \"\"\" accepts a size and the text of a message that should be printed on the shirt.\"\"\"\n",
    "    print(f\"The size of your shirt: {size}\")\n",
    "    print(f\"The message printed on it: {text}\")\n",
    "make_shirt(\"S\", \"I love Hanoi\")\n",
    "make_shirt(size = \"S\", text = \"I love Hanoi\")"
   ]
  },
  {
   "cell_type": "markdown",
   "metadata": {},
   "source": [
    "**8-4. Large Shirts:** Modify the make_shirt() function so that shirts are large\n",
    "by default with a message that reads I love Python. Make a large shirt and a\n",
    "medium shirt with the default message, and a shirt of any size with a different\n",
    "message.\n"
   ]
  },
  {
   "cell_type": "code",
   "execution_count": 15,
   "metadata": {},
   "outputs": [
    {
     "name": "stdout",
     "output_type": "stream",
     "text": [
      "The size of your shirt: S\n",
      "The message printed on it: I love Hanoi\n",
      "The size of your shirt: L\n",
      "The message printed on it: I love Hanoi\n"
     ]
    }
   ],
   "source": [
    "def make_shirt( text,size = \"L\"):\n",
    "    \"\"\" accepts a size and the text of a message that should be printed on the shirt.\"\"\"\n",
    "    print(f\"The size of your shirt: {size}\")\n",
    "    print(f\"The message printed on it: {text}\")\n",
    "make_shirt(\"I love Hanoi\", \"S\")\n",
    "make_shirt(text = \"I love Hanoi\")"
   ]
  },
  {
   "cell_type": "markdown",
   "metadata": {},
   "source": [
    "**8-5. Cities:** Write a function called describe_city() that accepts the name of\n",
    "a city and its country. The function should print a simple sentence, such as\n",
    "Reykjavik is in Iceland. Give the parameter for the country a default value.\n",
    "Call your function for three different cities, at least one of which is not in the\n",
    "default country."
   ]
  },
  {
   "cell_type": "code",
   "execution_count": 18,
   "metadata": {},
   "outputs": [
    {
     "name": "stdout",
     "output_type": "stream",
     "text": [
      "Reykjavik is in Iceland.\n",
      "a is in Iceland.\n",
      "b is in Iceland.\n"
     ]
    }
   ],
   "source": [
    "def describe_city(city, country = \"Iceland\"):\n",
    "    print(f\"{city} is in {country}.\")\n",
    "describe_city(\"Reykjavik\")\n",
    "describe_city(\"a\")\n",
    "describe_city(\"b\")"
   ]
  },
  {
   "cell_type": "code",
   "execution_count": 19,
   "metadata": {},
   "outputs": [
    {
     "name": "stdout",
     "output_type": "stream",
     "text": [
      "Reykjavik is in Iceland.\n",
      "None\n"
     ]
    }
   ],
   "source": [
    "print(describe_city(\"Reykjavik\"))"
   ]
  },
  {
   "cell_type": "code",
   "execution_count": 22,
   "metadata": {},
   "outputs": [],
   "source": [
    "import re \n",
    "\n",
    "def text_normalize(text):\n",
    "    text_nor = text.lower()\n",
    "    text_nor  = re.sub(\"\\W+\",' ',text_nor)\n",
    "    return text_nor\n"
   ]
  },
  {
   "cell_type": "code",
   "execution_count": 21,
   "metadata": {},
   "outputs": [],
   "source": [
    "text_1 = '''\n",
    "oblem 7: Extracting information from a log file\n",
    "In this example, we are going to use actual output from an Android adb debugging session. Your goal is to use any regular expression techniques that we've learned so far to extract the filename, method name and line number of line of the stack trace (they follow the form \"at package.class.methodname(filename:linenumber)\").\n",
    "''' "
   ]
  },
  {
   "cell_type": "code",
   "execution_count": 24,
   "metadata": {},
   "outputs": [],
   "source": [
    "text_1nor = text_normalize(text_1)"
   ]
  },
  {
   "cell_type": "code",
   "execution_count": 25,
   "metadata": {},
   "outputs": [],
   "source": [
    "def count_fre(text):\n",
    "    \"\"\"text = text_nor, frequency of word\"\"\"\n",
    "    fre_dict = {}\n",
    "    for word in text.split():\n",
    "        if word in fre_dict:\n",
    "            fre_dict[word] += 1\n",
    "        else: \n",
    "            fre_dict[word] = 1\n",
    "    return fre_dict\n"
   ]
  },
  {
   "cell_type": "code",
   "execution_count": 28,
   "metadata": {},
   "outputs": [],
   "source": [
    "fre_words = count_fre(text_1nor)"
   ]
  },
  {
   "cell_type": "code",
   "execution_count": 36,
   "metadata": {},
   "outputs": [],
   "source": [
    "def get_topk(fre_dict, k = 5):\n",
    "    topk_keys = sorted(fre_dict,key= lambda x: fre_dict[x], reverse=True)[:k]\n",
    "    return [(key,fre_dict[key]) for key in topk_keys]"
   ]
  },
  {
   "cell_type": "code",
   "execution_count": 37,
   "metadata": {},
   "outputs": [
    {
     "data": {
      "text/plain": [
       "[('to', 3), ('the', 3), ('from', 2), ('we', 2), ('use', 2)]"
      ]
     },
     "execution_count": 37,
     "metadata": {},
     "output_type": "execute_result"
    }
   ],
   "source": [
    "get_topk(fre_words)"
   ]
  },
  {
   "cell_type": "code",
   "execution_count": 39,
   "metadata": {},
   "outputs": [],
   "source": [
    "with open('Example_Regex.txt','r',encoding='utf16') as file:\n",
    "    text = file.read()"
   ]
  },
  {
   "cell_type": "code",
   "execution_count": 40,
   "metadata": {},
   "outputs": [
    {
     "name": "stdout",
     "output_type": "stream",
     "text": [
      "[('hluv', 290), ('edu', 290), ('vn', 290), ('viên', 200), ('thị', 178), ('giảng', 135), ('trưởng', 60), ('nguyễn', 60), ('10', 54), ('02', 49)]\n"
     ]
    }
   ],
   "source": [
    "text_nor = text_normalize(text)\n",
    "fre_words = count_fre(text_nor)\n",
    "print(get_topk(fre_words, k=10))"
   ]
  },
  {
   "cell_type": "code",
   "execution_count": 41,
   "metadata": {},
   "outputs": [],
   "source": [
    "def translate_to_vn(text):\n",
    "    pass\n",
    "    return text_vi\n",
    "\n"
   ]
  },
  {
   "cell_type": "code",
   "execution_count": 42,
   "metadata": {},
   "outputs": [],
   "source": [
    "def gcd(a,b):\n",
    "    if a<b:\n",
    "        a,b = b,a\n",
    "    while b!=0:\n",
    "        r = a%b\n",
    "        a = b\n",
    "        b = r\n",
    "    return a "
   ]
  },
  {
   "cell_type": "code",
   "execution_count": 43,
   "metadata": {},
   "outputs": [
    {
     "data": {
      "text/plain": [
       "7"
      ]
     },
     "execution_count": 43,
     "metadata": {},
     "output_type": "execute_result"
    }
   ],
   "source": [
    "gcd(28,49)"
   ]
  },
  {
   "cell_type": "code",
   "execution_count": 44,
   "metadata": {},
   "outputs": [],
   "source": [
    "def rgcd(a,b):\n",
    "    if a<b:\n",
    "        a,b = b,a\n",
    "    if b==0:\n",
    "        return a\n",
    "    else:\n",
    "        return rgcd(b, a%b)"
   ]
  },
  {
   "cell_type": "code",
   "execution_count": 46,
   "metadata": {},
   "outputs": [
    {
     "data": {
      "text/plain": [
       "28"
      ]
     },
     "execution_count": 46,
     "metadata": {},
     "output_type": "execute_result"
    },
    {
     "ename": "",
     "evalue": "",
     "output_type": "error",
     "traceback": [
      "\u001b[1;31mThe Kernel crashed while executing code in the current cell or a previous cell. \n",
      "\u001b[1;31mPlease review the code in the cell(s) to identify a possible cause of the failure. \n",
      "\u001b[1;31mClick <a href='https://aka.ms/vscodeJupyterKernelCrash'>here</a> for more info. \n",
      "\u001b[1;31mView Jupyter <a href='command:jupyter.viewOutput'>log</a> for further details."
     ]
    }
   ],
   "source": [
    "rgcd(28,0)"
   ]
  },
  {
   "cell_type": "code",
   "execution_count": null,
   "metadata": {},
   "outputs": [],
   "source": []
  }
 ],
 "metadata": {
  "kernelspec": {
   "display_name": "env-teaching",
   "language": "python",
   "name": "python3"
  },
  "language_info": {
   "codemirror_mode": {
    "name": "ipython",
    "version": 3
   },
   "file_extension": ".py",
   "mimetype": "text/x-python",
   "name": "python",
   "nbconvert_exporter": "python",
   "pygments_lexer": "ipython3",
   "version": "3.11.7"
  }
 },
 "nbformat": 4,
 "nbformat_minor": 2
}

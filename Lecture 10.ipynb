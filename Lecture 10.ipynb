{
 "cells": [
  {
   "cell_type": "markdown",
   "metadata": {},
   "source": [
    "## Lecture 10"
   ]
  },
  {
   "cell_type": "markdown",
   "metadata": {},
   "source": [
    "### class"
   ]
  },
  {
   "cell_type": "code",
   "execution_count": 11,
   "metadata": {},
   "outputs": [],
   "source": [
    "class Dog:\n",
    "    '''' docstring'''\n",
    "    def __init__(self, name, age, weight):\n",
    "        self.name = name \n",
    "        self.age = age \n",
    "        self.w = weight\n",
    "    def sit(self):\n",
    "        print(f\"{self.name} is sitting\")\n",
    "    def roll_over(self):\n",
    "        if self.w>5:\n",
    "            print(f\"{self.name} is rolling slowly\")\n",
    "        else:\n",
    "            print(f\"{self.name} is rolling\")"
   ]
  },
  {
   "cell_type": "code",
   "execution_count": 12,
   "metadata": {},
   "outputs": [],
   "source": [
    "my_dog = Dog(\"Xoài\",8,2)\n"
   ]
  },
  {
   "cell_type": "code",
   "execution_count": 13,
   "metadata": {},
   "outputs": [
    {
     "data": {
      "text/plain": [
       "'Xoài'"
      ]
     },
     "execution_count": 13,
     "metadata": {},
     "output_type": "execute_result"
    }
   ],
   "source": [
    "my_dog.name "
   ]
  },
  {
   "cell_type": "code",
   "execution_count": 14,
   "metadata": {},
   "outputs": [
    {
     "data": {
      "text/plain": [
       "2"
      ]
     },
     "execution_count": 14,
     "metadata": {},
     "output_type": "execute_result"
    }
   ],
   "source": [
    "my_dog.w "
   ]
  },
  {
   "cell_type": "code",
   "execution_count": 17,
   "metadata": {},
   "outputs": [
    {
     "data": {
      "text/plain": [
       "9"
      ]
     },
     "execution_count": 17,
     "metadata": {},
     "output_type": "execute_result"
    }
   ],
   "source": [
    "my_dog.age = 9\n",
    "my_dog.age "
   ]
  },
  {
   "cell_type": "code",
   "execution_count": 18,
   "metadata": {},
   "outputs": [
    {
     "name": "stdout",
     "output_type": "stream",
     "text": [
      "Xoài is sitting\n"
     ]
    }
   ],
   "source": [
    "my_dog.sit()"
   ]
  },
  {
   "cell_type": "code",
   "execution_count": 20,
   "metadata": {},
   "outputs": [
    {
     "name": "stdout",
     "output_type": "stream",
     "text": [
      "Xoài is rolling slowly\n"
     ]
    }
   ],
   "source": [
    "my_dog.w = 10\n",
    "my_dog.roll_over()"
   ]
  },
  {
   "cell_type": "markdown",
   "metadata": {},
   "source": [
    "**9-1. Restaurant:** Make a class called Restaurant. The __init__() method for\n",
    "Restaurant should store two attributes: a restaurant_name and a cuisine_type.\n",
    "Make a method called describe_restaurant() that prints these two pieces of\n",
    "information, and a method called open_restaurant() that prints a message indicating that the restaurant is open.\n",
    "Make an instance called restaurant from your class. Print the two attributes individually, and then call both methods.\n"
   ]
  },
  {
   "cell_type": "code",
   "execution_count": 22,
   "metadata": {},
   "outputs": [
    {
     "name": "stdout",
     "output_type": "stream",
     "text": [
      "KFC\n",
      "fast food\n",
      "Restaurant's name: KFC\n",
      "Restaurant's cuisine type: fast food\n",
      "The KFC is open\n"
     ]
    }
   ],
   "source": [
    "class Restaurant:\n",
    "    def __init__(self, restaurant_name, cuisine_type):\n",
    "        self.name = restaurant_name\n",
    "        self.type = cuisine_type\n",
    "    def describe_restaurant(self):\n",
    "        print(f\"Restaurant's name: {self.name}\")\n",
    "        print(f\"Restaurant's cuisine type: {self.type}\")\n",
    "    def open_restaurant(self):\n",
    "        print(f'The {self.name} is open')\n",
    "restaurant = Restaurant(\"KFC\", \"fast food\")\n",
    "print(restaurant.name)\n",
    "print(restaurant.type)\n",
    "restaurant.describe_restaurant()\n",
    "restaurant.open_restaurant()\n"
   ]
  },
  {
   "cell_type": "markdown",
   "metadata": {},
   "source": [
    "**9-2. Three Restaurants:** Start with your class from Exercise 9-1. Create three\n",
    "different instances from the class, and call describe_restaurant() for each\n",
    "instance.\n"
   ]
  },
  {
   "cell_type": "code",
   "execution_count": 23,
   "metadata": {},
   "outputs": [
    {
     "name": "stdout",
     "output_type": "stream",
     "text": [
      "Restaurant's name: Haidilao\n",
      "Restaurant's cuisine type: hotpot\n",
      "Restaurant's name: Thìn\n",
      "Restaurant's cuisine type: phở\n",
      "Restaurant's name: Lotte\n",
      "Restaurant's cuisine type: icecream\n"
     ]
    }
   ],
   "source": [
    "restaurant1 = Restaurant(\"Haidilao\", 'hotpot')\n",
    "restaurant2 = Restaurant(\"Thìn\", 'phở')\n",
    "restaurant3 = Restaurant(\"Lotte\", 'icecream')\n",
    "\n",
    "restaurant1.describe_restaurant()\n",
    "restaurant2.describe_restaurant()\n",
    "restaurant3.describe_restaurant()\n"
   ]
  },
  {
   "cell_type": "markdown",
   "metadata": {},
   "source": [
    "\n",
    "**9-3. Users:** Make a class called User. Create two attributes called first_name\n",
    "and last_name, and then create several other attributes that are typically stored\n",
    "in a user profile. Make a method called describe_user() that prints a summary\n",
    "of the user’s information. Make another method called greet_user() that prints\n",
    "a personalized greeting to the user.\n",
    "Create several instances representing different users, and call both methods\n",
    "for each use"
   ]
  },
  {
   "cell_type": "code",
   "execution_count": 32,
   "metadata": {},
   "outputs": [
    {
     "name": "stdout",
     "output_type": "stream",
     "text": [
      "{'full_name': 'Ngoc BichLe', 'sex': 'female', 'location': 'Ha Dong'}\n",
      "{'full_name': 'Ngoc BichLe', 'sex': 'female', 'location': 'Ha Dong'}\n",
      "Good morning Ngoc BichLe!\n"
     ]
    }
   ],
   "source": [
    "class User:\n",
    "    def __init__(self, first_name, last_name, sex, location):\n",
    "        self.first_name = first_name\n",
    "        self.last_name = last_name\n",
    "        self.sex = sex\n",
    "        self._protect = 0\n",
    "        self.__location = location\n",
    "        self.full_name = self.first_name + self.last_name\n",
    "    def describe_user(self):\n",
    "        return {'full_name':self.full_name, 'sex':self.sex, 'location':self.__location}\n",
    "    def greet_user(self):\n",
    "        print(self.describe_user())\n",
    "        print(f'Good morning {self.full_name}!')\n",
    "user1 = User(\"Ngoc Bich\", \"Le\", \"female\", \"Ha Dong\")\n",
    "print(user1.describe_user())\n",
    "user1.greet_user()"
   ]
  },
  {
   "cell_type": "code",
   "execution_count": 29,
   "metadata": {},
   "outputs": [
    {
     "data": {
      "text/plain": [
       "'Ngoc BichLe'"
      ]
     },
     "execution_count": 29,
     "metadata": {},
     "output_type": "execute_result"
    }
   ],
   "source": [
    "user1.full_name"
   ]
  },
  {
   "cell_type": "code",
   "execution_count": 33,
   "metadata": {},
   "outputs": [
    {
     "data": {
      "text/plain": [
       "['_User__location',\n",
       " '__class__',\n",
       " '__delattr__',\n",
       " '__dict__',\n",
       " '__dir__',\n",
       " '__doc__',\n",
       " '__eq__',\n",
       " '__format__',\n",
       " '__ge__',\n",
       " '__getattribute__',\n",
       " '__getstate__',\n",
       " '__gt__',\n",
       " '__hash__',\n",
       " '__init__',\n",
       " '__init_subclass__',\n",
       " '__le__',\n",
       " '__lt__',\n",
       " '__module__',\n",
       " '__ne__',\n",
       " '__new__',\n",
       " '__reduce__',\n",
       " '__reduce_ex__',\n",
       " '__repr__',\n",
       " '__setattr__',\n",
       " '__sizeof__',\n",
       " '__str__',\n",
       " '__subclasshook__',\n",
       " '__weakref__',\n",
       " '_protect',\n",
       " 'describe_user',\n",
       " 'first_name',\n",
       " 'full_name',\n",
       " 'greet_user',\n",
       " 'last_name',\n",
       " 'sex']"
      ]
     },
     "execution_count": 33,
     "metadata": {},
     "output_type": "execute_result"
    }
   ],
   "source": [
    "dir(user1)"
   ]
  },
  {
   "cell_type": "code",
   "execution_count": 38,
   "metadata": {},
   "outputs": [],
   "source": [
    "# Stack\n",
    "class Stack:\n",
    "    def __init__(self):\n",
    "        self.__stack = []\n",
    "    def push(self,item):\n",
    "        return self.__stack.append(item)\n",
    "    def peek(self):\n",
    "        if self.__stack:\n",
    "            return self.__stack[-1]\n",
    "        else:\n",
    "            return \"the stack is empty\"\n",
    "    def pop(self):\n",
    "        if self.__stack:\n",
    "            return self.__stack.pop()\n",
    "        else:\n",
    "            return \"the stack is empty\"\n",
    "    def is_empty(self):\n",
    "        return not bool(self.__stack)\n",
    "    def size(self):\n",
    "        return len(self.__stack)"
   ]
  },
  {
   "cell_type": "code",
   "execution_count": 39,
   "metadata": {},
   "outputs": [
    {
     "name": "stdout",
     "output_type": "stream",
     "text": [
      "True\n",
      "the stack is empty\n",
      "item4\n"
     ]
    }
   ],
   "source": [
    "my_stack = Stack()\n",
    "print(my_stack.is_empty())\n",
    "print(my_stack.peek())\n",
    "my_stack.push('item1')\n",
    "my_stack.push('item2')\n",
    "my_stack.push('item3')\n",
    "my_stack.push('item4')\n",
    "print(my_stack.peek())\n"
   ]
  },
  {
   "cell_type": "code",
   "execution_count": null,
   "metadata": {},
   "outputs": [],
   "source": []
  }
 ],
 "metadata": {
  "kernelspec": {
   "display_name": "env-teaching",
   "language": "python",
   "name": "python3"
  },
  "language_info": {
   "codemirror_mode": {
    "name": "ipython",
    "version": 3
   },
   "file_extension": ".py",
   "mimetype": "text/x-python",
   "name": "python",
   "nbconvert_exporter": "python",
   "pygments_lexer": "ipython3",
   "version": "3.11.7"
  }
 },
 "nbformat": 4,
 "nbformat_minor": 2
}
